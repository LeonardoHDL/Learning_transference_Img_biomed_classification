{
 "cells": [
  {
   "cell_type": "code",
   "execution_count": 1,
   "metadata": {},
   "outputs": [],
   "source": [
    "import os\n",
    "import torch\n",
    "import torch.nn as nn\n",
    "import torch.optim as optim\n",
    "from torch.utils.data import Dataset, DataLoader\n",
    "from torchvision import transforms\n",
    "from PIL import Image"
   ]
  },
  {
   "cell_type": "code",
   "execution_count": 2,
   "metadata": {},
   "outputs": [],
   "source": [
    "transform = transforms.Compose([\n",
    "    transforms.Resize((64, 64)),\n",
    "    transforms.ToTensor(),\n",
    "    transforms.Normalize((0.5,), (0.5,))\n",
    "])\n",
    "\n",
    "class ImageDataset(Dataset):\n",
    "    def __init__(self, data_dir, transform=None):\n",
    "        self.data_dir = data_dir\n",
    "        self.transform = transform\n",
    "        self.images = []\n",
    "        self.labels = []\n",
    "        \n",
    "        \n",
    "        classes = os.listdir(data_dir)\n",
    "        \n",
    "        for i, class_name in enumerate(classes):\n",
    "            class_dir = os.path.join(data_dir, class_name)\n",
    "            for image_name in os.listdir(class_dir):\n",
    "                image_path = os.path.join(class_dir, image_name)\n",
    "                self.images.append(image_path)\n",
    "                self.labels.append(i)\n",
    "        \n",
    "    def __getitem__(self, index):\n",
    "        image_path = self.images[index]\n",
    "        image = Image.open(image_path).convert('RGB')\n",
    "        \n",
    "        if self.transform is not None:\n",
    "            image = self.transform(image)\n",
    "        \n",
    "        label = self.labels[index]\n",
    "        return image, label\n",
    "    \n",
    "    def __len__(self):\n",
    "        return len(self.images)\n"
   ]
  },
  {
   "cell_type": "code",
   "execution_count": 3,
   "metadata": {},
   "outputs": [],
   "source": [
    "working_directory='/home/leonardo/Documents/mod_comp_02/Learning_transference_Img_biomed_classification/Brain_Tumor_MRI_dataset/'"
   ]
  },
  {
   "cell_type": "code",
   "execution_count": 4,
   "metadata": {},
   "outputs": [],
   "source": [
    "train_dataset = ImageDataset(os.path.join(working_directory, 'Training'), transform=transform)\n",
    "validate_data = ImageDataset(os.path.join(working_directory, 'validate'), transform=transform)\n",
    "\n",
    "\n",
    "train_loader = DataLoader(train_dataset, batch_size=32, shuffle=True)\n",
    "test_loader = DataLoader(validate_data, batch_size=32, shuffle=False)"
   ]
  },
  {
   "cell_type": "code",
   "execution_count": 5,
   "metadata": {},
   "outputs": [],
   "source": [
    "# Definir la arquitectura de la red convolucional\n",
    "class SimpleCNN(nn.Module):\n",
    "    def __init__(self):\n",
    "        super(SimpleCNN, self).__init__()\n",
    "        self.conv1 = nn.Conv2d(3, 16, kernel_size=3, stride=1, padding=1)\n",
    "        self.relu = nn.ReLU()\n",
    "        self.pool = nn.MaxPool2d(kernel_size=2, stride=2)\n",
    "        self.fc = nn.Linear(16 * 32 * 32, 4)  \n",
    "        \n",
    "    def forward(self, x):\n",
    "        x = self.conv1(x)\n",
    "        x = self.relu(x)\n",
    "        x = self.pool(x)\n",
    "        x = x.view(x.size(0), -1)\n",
    "        x = self.fc(x)\n",
    "        return x\n",
    "\n",
    "\n",
    "model = SimpleCNN()\n",
    "\n",
    "\n",
    "criterion = nn.CrossEntropyLoss()\n",
    "optimizer = optim.Adam(model.parameters(), lr=0.001)"
   ]
  },
  {
   "cell_type": "code",
   "execution_count": 6,
   "metadata": {},
   "outputs": [
    {
     "name": "stdout",
     "output_type": "stream",
     "text": [
      "Epoch [1/10], Loss: 0.37949371337890625\n",
      "Epoch [2/10], Loss: 0.22029085457324982\n",
      "Epoch [3/10], Loss: 0.30310705304145813\n",
      "Epoch [4/10], Loss: 0.29945799708366394\n",
      "Epoch [5/10], Loss: 0.10680918395519257\n",
      "Epoch [6/10], Loss: 0.1693183332681656\n",
      "Epoch [7/10], Loss: 0.08088744431734085\n",
      "Epoch [8/10], Loss: 0.16408944129943848\n",
      "Epoch [9/10], Loss: 0.055533517152071\n",
      "Epoch [10/10], Loss: 0.09063694626092911\n",
      "Accuracy on test images: 93.82151029748283 %\n"
     ]
    }
   ],
   "source": [
    "# Entrenamiento del modelo\n",
    "num_epochs = 10\n",
    "for epoch in range(num_epochs):\n",
    "    model.train()\n",
    "    \n",
    "    for images, labels in train_loader:\n",
    "        optimizer.zero_grad()\n",
    "        \n",
    "        \n",
    "        outputs = model(images)\n",
    "        \n",
    "        \n",
    "        loss = criterion(outputs, labels)\n",
    "        \n",
    "        \n",
    "        loss.backward()\n",
    "        optimizer.step()\n",
    "        \n",
    "    print(f'Epoch [{epoch+1}/{num_epochs}], Loss: {loss.item()}')\n",
    "\n",
    "model.eval()\n",
    "with torch.no_grad():\n",
    "    correct = 0\n",
    "    total = 0\n",
    "    \n",
    "    for images, labels in test_loader:\n",
    "        outputs = model(images)\n",
    "        _, predicted = torch.max(outputs.data, 1)\n",
    "        total += labels.size(0)\n",
    "        correct += (predicted == labels).sum().item()\n",
    "    \n",
    "    accuracy = 100 * correct / total\n",
    "    print(f'Accuracy on test images: {accuracy} %')"
   ]
  },
  {
   "cell_type": "code",
   "execution_count": 7,
   "metadata": {},
   "outputs": [
    {
     "data": {
      "image/png": "[encoded data removed]",
      "text/plain": [
       "<Figure size 640x480 with 1 Axes>"
      ]
     },
     "metadata": {},
     "output_type": "display_data"
    },
    {
     "name": "stdout",
     "output_type": "stream",
     "text": [
      "Prediction 1: pituitary, Probability: 0.9686060547828674\n",
      "Prediction 2: meningioma, Probability: 0.029997818171977997\n",
      "Prediction 3: glioma, Probability: 0.00139032700099051\n"
     ]
    }
   ],
   "source": [
    "image_path = '/home/leonardo/Documents/mod_comp_02/Learning_transference_Img_biomed_classification/Brain_Tumor_MRI_dataset/Testing/glioma.jpg'  \n",
    "image = Image.open(image_path).convert('RGB')\n",
    "transform = transforms.Compose([\n",
    "    transforms.Resize((64, 64)),\n",
    "    transforms.ToTensor(),\n",
    "    transforms.Normalize((0.5,), (0.5,))\n",
    "])\n",
    "image_tensor = transform(image)\n",
    "image_tensor = image_tensor.unsqueeze(0) \n",
    "\n",
    "inv_transform = transforms.Compose([\n",
    "    transforms.Normalize((-1,), (2,)),  \n",
    "    transforms.ToPILImage()  \n",
    "])\n",
    "inv_image = inv_transform(image_tensor.squeeze())\n",
    "\n",
    "import matplotlib.pyplot as plt\n",
    "\n",
    "plt.imshow(inv_image)\n",
    "plt.axis('off')\n",
    "plt.show()\n",
    "\n",
    "with torch.no_grad():\n",
    "    output = model(image_tensor)\n",
    "    probabilities = torch.softmax(output, dim=1)\n",
    "    top_probabilities, top_indices = torch.topk(probabilities, k=3)\n",
    "    \n",
    "classes = ['glioma', 'meningioma', 'no tumor', 'pituitary']\n",
    "for i in range(3):\n",
    "    print(f\"Prediction {i+1}: {classes[top_indices[0][i]]}, Probability: {top_probabilities[0][i].item()}\")"
   ]
  },
  {
   "cell_type": "code",
   "execution_count": 8,
   "metadata": {},
   "outputs": [
    {
     "data": {
      "image/png": "[encoded data removed]",
      "text/plain": [
       "<Figure size 640x480 with 1 Axes>"
      ]
     },
     "metadata": {},
     "output_type": "display_data"
    },
    {
     "name": "stdout",
     "output_type": "stream",
     "text": [
      "Prediction 1: pituitary, Probability: 0.9950487017631531\n",
      "Prediction 2: no tumor, Probability: 0.004935428500175476\n",
      "Prediction 3: meningioma, Probability: 1.5896395780146122e-05\n"
     ]
    }
   ],
   "source": [
    "# Cargar una imagen para la predicción\n",
    "image_path = '/home/leonardo/Documents/mod_comp_02/Learning_transference_Img_biomed_classification/Brain_Tumor_MRI_dataset/Testing/meningioma_3.jpg'  \n",
    "image = Image.open(image_path).convert('RGB')\n",
    "transform = transforms.Compose([\n",
    "    transforms.Resize((64, 64)),\n",
    "    transforms.ToTensor(),\n",
    "    transforms.Normalize((0.5,), (0.5,))\n",
    "])\n",
    "image_tensor = transform(image)\n",
    "image_tensor = image_tensor.unsqueeze(0) \n",
    "\n",
    "# Invertir las transformaciones y normalizaciones\n",
    "inv_transform = transforms.Compose([\n",
    "    transforms.Normalize((-1,), (2,)),  # Invierte la normalización\n",
    "    transforms.ToPILImage()  # Convierte el tensor a imagen PIL\n",
    "])\n",
    "inv_image = inv_transform(image_tensor.squeeze())\n",
    "\n",
    "# Mostrar la imagen\n",
    "import matplotlib.pyplot as plt\n",
    "\n",
    "plt.imshow(inv_image)\n",
    "plt.axis('off')\n",
    "plt.show()\n",
    "\n",
    "# Realizar la predicción\n",
    "with torch.no_grad():\n",
    "    output = model(image_tensor)\n",
    "    probabilities = torch.softmax(output, dim=1)\n",
    "    top_probabilities, top_indices = torch.topk(probabilities, k=3)\n",
    "    \n",
    "# Obtener las clasificaciones correspondientes\n",
    "classes = ['glioma', 'meningioma', 'no tumor', 'pituitary']\n",
    "for i in range(3):\n",
    "    print(f\"Prediction {i+1}: {classes[top_indices[0][i]]}, Probability: {top_probabilities[0][i].item()}\")"
   ]
  },
  {
   "attachments": {},
   "cell_type": "markdown",
   "metadata": {},
   "source": [
    "# interesante que el modelo tampoco es preciso, aun con porcentajes realmente alto de precision, que raro, por qeu sera?"
   ]
  },
  {
   "attachments": {},
   "cell_type": "markdown",
   "metadata": {},
   "source": []
  }
 ],
 "metadata": {
  "kernelspec": {
   "display_name": "Python 3",
   "language": "python",
   "name": "python3"
  },
  "language_info": {
   "codemirror_mode": {
    "name": "ipython",
    "version": 3
   },
   "file_extension": ".py",
   "mimetype": "text/x-python",
   "name": "python",
   "nbconvert_exporter": "python",
   "pygments_lexer": "ipython3",
   "version": "3.10.6"
  },
  "orig_nbformat": 4
 },
 "nbformat": 4,
 "nbformat_minor": 2
}
